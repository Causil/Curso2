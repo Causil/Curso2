{
 "cells": [
  {
   "cell_type": "code",
   "execution_count": 3,
   "id": "c92f2d4b",
   "metadata": {},
   "outputs": [],
   "source": [
    "import numpy as np"
   ]
  },
  {
   "cell_type": "markdown",
   "id": "db360bfd",
   "metadata": {},
   "source": [
    "<h1>Tarea primera clase</h1>\n"
   ]
  },
  {
   "cell_type": "markdown",
   "id": "b809337b",
   "metadata": {},
   "source": [
    "Problema:\n",
    "Dentro del conjunto de datos, seleccióne la esquina inferior que contenga  14×14  píxeles en cada una de las imágenes y visualice una de ellas."
   ]
  },
  {
   "cell_type": "code",
   "execution_count": 4,
   "id": "f23c04e5",
   "metadata": {},
   "outputs": [
    {
     "ename": "ModuleNotFoundError",
     "evalue": "No module named 'keras'",
     "output_type": "error",
     "traceback": [
      "\u001b[0;31m---------------------------------------------------------------------------\u001b[0m",
      "\u001b[0;31mModuleNotFoundError\u001b[0m                       Traceback (most recent call last)",
      "Input \u001b[0;32mIn [4]\u001b[0m, in \u001b[0;36m<cell line: 1>\u001b[0;34m()\u001b[0m\n\u001b[0;32m----> 1\u001b[0m \u001b[38;5;28;01mfrom\u001b[39;00m \u001b[38;5;21;01mkeras\u001b[39;00m\u001b[38;5;21;01m.\u001b[39;00m\u001b[38;5;21;01mdatasets\u001b[39;00m \u001b[38;5;28;01mimport\u001b[39;00m mnist\n\u001b[1;32m      2\u001b[0m (train_images, train_labels), (test_images, test_labels) \u001b[38;5;241m=\u001b[39m mnist\u001b[38;5;241m.\u001b[39mload_data()\n\u001b[1;32m      3\u001b[0m my_slice_problem \u001b[38;5;241m=\u001b[39m train_images[\u001b[38;5;241m9\u001b[39m,\u001b[38;5;241m14\u001b[39m:,\u001b[38;5;241m14\u001b[39m:]\n",
      "\u001b[0;31mModuleNotFoundError\u001b[0m: No module named 'keras'"
     ]
    }
   ],
   "source": [
    "from keras.datasets import mnist\n",
    "(train_images, train_labels), (test_images, test_labels) = mnist.load_data()\n",
    "my_slice_problem = train_images[9,14:,14:]"
   ]
  },
  {
   "cell_type": "code",
   "execution_count": 5,
   "id": "79eba2d8",
   "metadata": {},
   "outputs": [
    {
     "data": {
      "text/plain": [
       "4"
      ]
     },
     "execution_count": 5,
     "metadata": {},
     "output_type": "execute_result"
    }
   ],
   "source": [
    "def max_vector1D(arr):\n",
    "    maximo = max(arr)\n",
    "    #maximo = np.max(np.array(arr))\n",
    "    return maximo\n",
    "max_vector1D([1,2,3,4])"
   ]
  },
  {
   "cell_type": "markdown",
   "id": "5918bb09",
   "metadata": {},
   "source": [
    "<p>\n",
    "Problema\n",
    "Creen una clase Point en coordenadas cartesianas, que se su constructor inicialice el objeto a un punto con unas coordenadas dadas. Además, la clase debe contener dos métodos:\n",
    "\n",
    "translate(), que reciba como argumentos dos valores arbitrarios  (𝑥,𝑦) .\n",
    "__str__(self): que imprima el punto en precisión de coma flotante.\n",
    "</p>"
   ]
  }
 ],
 "metadata": {
  "kernelspec": {
   "display_name": "Python 3 (ipykernel)",
   "language": "python",
   "name": "python3"
  },
  "language_info": {
   "codemirror_mode": {
    "name": "ipython",
    "version": 3
   },
   "file_extension": ".py",
   "mimetype": "text/x-python",
   "name": "python",
   "nbconvert_exporter": "python",
   "pygments_lexer": "ipython3",
   "version": "3.10.4"
  }
 },
 "nbformat": 4,
 "nbformat_minor": 5
}
