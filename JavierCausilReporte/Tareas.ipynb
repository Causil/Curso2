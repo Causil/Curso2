{
 "cells": [
  {
   "cell_type": "code",
   "execution_count": 3,
   "id": "5957dc09",
   "metadata": {},
   "outputs": [],
   "source": [
    "import numpy as np"
   ]
  },
  {
   "cell_type": "markdown",
   "id": "3abced73",
   "metadata": {},
   "source": [
    "<h1>Tarea primera clase</h1>\n"
   ]
  },
  {
   "cell_type": "markdown",
   "id": "34cce85b",
   "metadata": {},
   "source": [
    "<h3>Datasets utilizados</h3>"
   ]
  },
  {
   "cell_type": "code",
   "execution_count": null,
   "id": "13c1c1f5",
   "metadata": {},
   "outputs": [],
   "source": [
    "from keras.datasets import mnist\n",
    "(train_images, train_labels), (test_images, test_labels) = mnist.load_data()"
   ]
  },
  {
   "cell_type": "markdown",
   "id": "67c1c71b",
   "metadata": {},
   "source": [
    "<h3>Problema:</h3>\n",
    "Dentro del conjunto de datos, seleccióne la esquina inferior que contenga  14×14  píxeles en cada una de las imágenes y visualice una de ellas."
   ]
  },
  {
   "cell_type": "code",
   "execution_count": null,
   "id": "71865242",
   "metadata": {},
   "outputs": [],
   "source": [
    "my_slice_problem = train_images[:,14:,14:]"
   ]
  },
  {
   "cell_type": "markdown",
   "id": "a4659bf0",
   "metadata": {},
   "source": [
    "<h3>Problema:</h3>\n",
    "Escriba un código en Python que devuelva el máximo valor de un vector."
   ]
  },
  {
   "cell_type": "code",
   "execution_count": 5,
   "id": "7d25459a",
   "metadata": {},
   "outputs": [
    {
     "data": {
      "text/plain": [
       "4"
      ]
     },
     "execution_count": 5,
     "metadata": {},
     "output_type": "execute_result"
    }
   ],
   "source": [
    "def max_vector1D(arr):\n",
    "    maximo = max(arr)\n",
    "    #maximo = np.max(np.array(arr))\n",
    "    return maximo\n",
    "max_vector1D([1,2,3,4])"
   ]
  },
  {
   "cell_type": "markdown",
   "id": "07e9c41a",
   "metadata": {},
   "source": [
    "<p>\n",
    "Problema\n",
    "Creen una clase Point en coordenadas cartesianas, que se su constructor inicialice el objeto a un punto con unas coordenadas dadas. Además, la clase debe contener dos métodos:\n",
    "\n",
    "translate(), que reciba como argumentos dos valores arbitrarios  (𝑥,𝑦) .\n",
    "__str__(self): que imprima el punto en precisión de coma flotante.\n",
    "</p>"
   ]
  }
 ],
 "metadata": {
  "kernelspec": {
   "display_name": "Python 3 (ipykernel)",
   "language": "python",
   "name": "python3"
  },
  "language_info": {
   "codemirror_mode": {
    "name": "ipython",
    "version": 3
   },
   "file_extension": ".py",
   "mimetype": "text/x-python",
   "name": "python",
   "nbconvert_exporter": "python",
   "pygments_lexer": "ipython3",
   "version": "3.10.4"
  }
 },
 "nbformat": 4,
 "nbformat_minor": 5
}
