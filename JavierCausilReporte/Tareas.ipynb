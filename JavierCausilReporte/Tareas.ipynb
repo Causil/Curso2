{
 "cells": [
  {
   "cell_type": "markdown",
   "id": "a1cb8818",
   "metadata": {},
   "source": [
    "<h1>Paquetes utilizados</h1>"
   ]
  },
  {
   "cell_type": "code",
   "execution_count": 3,
   "id": "dff617e6",
   "metadata": {},
   "outputs": [],
   "source": [
    "import numpy as np"
   ]
  },
  {
   "cell_type": "markdown",
   "id": "6b07c935",
   "metadata": {},
   "source": [
    "<h1>Tarea 18-junio-2022\n",
    "</h1>\n"
   ]
  },
  {
   "cell_type": "markdown",
   "id": "e68554f1",
   "metadata": {},
   "source": [
    "<h3>Datasets utilizados</h3>"
   ]
  },
  {
   "cell_type": "code",
   "execution_count": 1,
   "id": "b48e46e6",
   "metadata": {},
   "outputs": [
    {
     "name": "stderr",
     "output_type": "stream",
     "text": [
      "2022-06-25 17:34:05.875939: W tensorflow/stream_executor/platform/default/dso_loader.cc:64] Could not load dynamic library 'libcudart.so.11.0'; dlerror: libcudart.so.11.0: cannot open shared object file: No such file or directory\n",
      "2022-06-25 17:34:05.875969: I tensorflow/stream_executor/cuda/cudart_stub.cc:29] Ignore above cudart dlerror if you do not have a GPU set up on your machine.\n"
     ]
    },
    {
     "name": "stdout",
     "output_type": "stream",
     "text": [
      "Downloading data from https://storage.googleapis.com/tensorflow/tf-keras-datasets/mnist.npz\n",
      "11490434/11490434 [==============================] - 19s 2us/step\n"
     ]
    }
   ],
   "source": [
    "from keras.datasets import mnist\n",
    "(train_images, train_labels), (test_images, test_labels) = mnist.load_data()"
   ]
  },
  {
   "cell_type": "markdown",
   "id": "64b261fc",
   "metadata": {},
   "source": [
    "<h3>Problema:</h3>\n",
    "Dentro del conjunto de datos, seleccióne la esquina inferior que contenga  14×14  píxeles en cada una de las imágenes y visualice una de ellas."
   ]
  },
  {
   "cell_type": "code",
   "execution_count": 7,
   "id": "7d1393f8",
   "metadata": {},
   "outputs": [
    {
     "name": "stdout",
     "output_type": "stream",
     "text": [
      "[[ 97 254 252 146  52   0   0   0   0   0   0   0   0   0]\n",
      " [232 181  60   0   0   0   0   0   0   0   0   0   0   0]\n",
      " [ 46   0   0   0   0   0   0   0   0   0   0   0   0   0]\n",
      " [  0   0   0   0   0   0   0   0   0   0   0   0   0   0]\n",
      " [  0   0   0   0   0   0   0   0   0   0   0   0   0   0]\n",
      " [  0   0   0   0   0   0   0   0   0   0   0   0   0   0]\n",
      " [  0   0   0   0   0   0   0   0   0   0   0   0   0   0]\n",
      " [  0   0   0   0   0   0   0   0   0   0   0   0   0   0]\n",
      " [  0   0   0   0   0   0   0   0   0   0   0   0   0   0]\n",
      " [  0   0   0   0   0   0   0   0   0   0   0   0   0   0]\n",
      " [  0   0   0   0   0   0   0   0   0   0   0   0   0   0]\n",
      " [  0   0   0   0   0   0   0   0   0   0   0   0   0   0]\n",
      " [  0   0   0   0   0   0   0   0   0   0   0   0   0   0]\n",
      " [  0   0   0   0   0   0   0   0   0   0   0   0   0   0]]\n"
     ]
    }
   ],
   "source": [
    "my_slice_problem = train_images[:,14:,14:]\n",
    "print(my_slice_problem[-1])"
   ]
  },
  {
   "cell_type": "markdown",
   "id": "9bf81290",
   "metadata": {},
   "source": [
    "<h3>Problema:</h3>\n",
    "Escriba un código en Python que devuelva el máximo valor de un vector."
   ]
  },
  {
   "cell_type": "code",
   "execution_count": 3,
   "id": "9fd395c7",
   "metadata": {},
   "outputs": [
    {
     "data": {
      "text/plain": [
       "4"
      ]
     },
     "execution_count": 3,
     "metadata": {},
     "output_type": "execute_result"
    }
   ],
   "source": [
    "def max_vector1D(arr):\n",
    "    maximo = max(arr)\n",
    "    #maximo = np.max(np.array(arr))\n",
    "    return maximo\n",
    "max_vector1D([1,2,3,4])"
   ]
  },
  {
   "cell_type": "markdown",
   "id": "84875d97",
   "metadata": {},
   "source": [
    "<h3>Problema: </h3>\n",
    "<p\n",
    " style='font-size:16px'\n",
    ">\n",
    "Creen una clase Point en coordenadas cartesianas, que se su constructor inicialice el objeto a un punto con unas coordenadas dadas. Además, la clase debe contener dos métodos:\n",
    "\n",
    "translate(), que reciba como argumentos dos valores arbitrarios  (𝑥,𝑦) .\n",
    "__str__(self): que imprima el punto en precisión de coma flotante.\n",
    "</p>"
   ]
  },
  {
   "cell_type": "code",
   "execution_count": 25,
   "id": "bb9e79bb",
   "metadata": {},
   "outputs": [
    {
     "data": {
      "text/plain": [
       "'Point coordinates: (4, 5.5)'"
      ]
     },
     "execution_count": 25,
     "metadata": {},
     "output_type": "execute_result"
    }
   ],
   "source": [
    "class Point:\n",
    "    def __init__(self,x=0,y=0):\n",
    "        self.axisx = x\n",
    "        self.axisy = y\n",
    "    def translate(self,deltax,deltay):\n",
    "        self.axisx += deltax\n",
    "        self.axisy += deltay\n",
    "        \n",
    "    def __str__(self):\n",
    "        return f'Point coordinates: {(self.axisx,self.axisy)}'\n",
    "    \n",
    "objetoEjemplo2 = Point()\n",
    "objetoEjemplo2.translate(4,5.5)\n",
    "objetoEjemplo2.__str__()\n",
    "    "
   ]
  }
 ],
 "metadata": {
  "kernelspec": {
   "display_name": "Python 3 (ipykernel)",
   "language": "python",
   "name": "python3"
  },
  "language_info": {
   "codemirror_mode": {
    "name": "ipython",
    "version": 3
   },
   "file_extension": ".py",
   "mimetype": "text/x-python",
   "name": "python",
   "nbconvert_exporter": "python",
   "pygments_lexer": "ipython3",
   "version": "3.10.4"
  }
 },
 "nbformat": 4,
 "nbformat_minor": 5
}
